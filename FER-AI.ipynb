{
 "cells": [
  {
   "cell_type": "code",
   "execution_count": 1,
   "id": "96343417",
   "metadata": {},
   "outputs": [],
   "source": [
    "from keras.utils import to_categorical\n",
    "from tensorflow.keras.preprocessing.image import load_img\n",
    "from keras.models import Sequential\n",
    "from keras.layers import Dense, Conv2D, Dropout, Flatten, MaxPooling2D\n",
    "import os\n",
    "import pandas as pd\n",
    "import numpy as np"
   ]
  },
  {
   "cell_type": "code",
   "execution_count": 2,
   "id": "e14a518d",
   "metadata": {},
   "outputs": [],
   "source": [
    "TRAIN_DIR = 'C:\\\\Users\\\\LENOVO\\\\projects\\\\fer\\\\train'\n",
    "TEST_DIR = 'C:\\\\Users\\\\LENOVO\\\\projects\\\\fer\\\\test'"
   ]
  },
  {
   "cell_type": "code",
   "execution_count": 3,
   "id": "454319b6",
   "metadata": {},
   "outputs": [],
   "source": [
    "def createdataframe(dir):\n",
    "    image_paths = []\n",
    "    labels = []\n",
    "    for label in os.listdir(dir):\n",
    "        for imagename in os.listdir(os.path.join(dir,label)):\n",
    "            image_paths.append(os.path.join(dir,label,imagename))\n",
    "            labels.append(label)\n",
    "        print(label, \"completed\")\n",
    "    return image_paths,labels"
   ]
  },
  {
   "cell_type": "code",
   "execution_count": 4,
   "id": "f9cccd02",
   "metadata": {},
   "outputs": [
    {
     "name": "stdout",
     "output_type": "stream",
     "text": [
      "angry completed\n",
      "disgust completed\n",
      "fear completed\n",
      "happy completed\n",
      "neutral completed\n",
      "sad completed\n",
      "surprise completed\n"
     ]
    }
   ],
   "source": [
    "train = pd.DataFrame()\n",
    "train['image'], train['label'] = createdataframe(TRAIN_DIR)"
   ]
  },
  {
   "cell_type": "code",
   "execution_count": 5,
   "id": "cf1e1b42",
   "metadata": {},
   "outputs": [
    {
     "name": "stdout",
     "output_type": "stream",
     "text": [
      "                                                   image     label\n",
      "0      C:\\Users\\LENOVO\\projects\\fer\\train\\angry\\Train...     angry\n",
      "1      C:\\Users\\LENOVO\\projects\\fer\\train\\angry\\Train...     angry\n",
      "2      C:\\Users\\LENOVO\\projects\\fer\\train\\angry\\Train...     angry\n",
      "3      C:\\Users\\LENOVO\\projects\\fer\\train\\angry\\Train...     angry\n",
      "4      C:\\Users\\LENOVO\\projects\\fer\\train\\angry\\Train...     angry\n",
      "...                                                  ...       ...\n",
      "28704  C:\\Users\\LENOVO\\projects\\fer\\train\\surprise\\Tr...  surprise\n",
      "28705  C:\\Users\\LENOVO\\projects\\fer\\train\\surprise\\Tr...  surprise\n",
      "28706  C:\\Users\\LENOVO\\projects\\fer\\train\\surprise\\Tr...  surprise\n",
      "28707  C:\\Users\\LENOVO\\projects\\fer\\train\\surprise\\Tr...  surprise\n",
      "28708  C:\\Users\\LENOVO\\projects\\fer\\train\\surprise\\Tr...  surprise\n",
      "\n",
      "[28709 rows x 2 columns]\n"
     ]
    }
   ],
   "source": [
    "print(train)\n"
   ]
  },
  {
   "cell_type": "code",
   "execution_count": 6,
   "id": "42bb5736",
   "metadata": {},
   "outputs": [
    {
     "name": "stdout",
     "output_type": "stream",
     "text": [
      "angry completed\n",
      "disgust completed\n",
      "fear completed\n",
      "happy completed\n",
      "neutral completed\n",
      "sad completed\n",
      "surprise completed\n"
     ]
    }
   ],
   "source": [
    "test = pd.DataFrame()\n",
    "test['image'], test['label'] = createdataframe(TEST_DIR)"
   ]
  },
  {
   "cell_type": "code",
   "execution_count": 7,
   "id": "75e0988d",
   "metadata": {},
   "outputs": [
    {
     "name": "stdout",
     "output_type": "stream",
     "text": [
      "                                                  image     label\n",
      "0     C:\\Users\\LENOVO\\projects\\fer\\test\\angry\\Privat...     angry\n",
      "1     C:\\Users\\LENOVO\\projects\\fer\\test\\angry\\Privat...     angry\n",
      "2     C:\\Users\\LENOVO\\projects\\fer\\test\\angry\\Privat...     angry\n",
      "3     C:\\Users\\LENOVO\\projects\\fer\\test\\angry\\Privat...     angry\n",
      "4     C:\\Users\\LENOVO\\projects\\fer\\test\\angry\\Privat...     angry\n",
      "...                                                 ...       ...\n",
      "7173  C:\\Users\\LENOVO\\projects\\fer\\test\\surprise\\Pub...  surprise\n",
      "7174  C:\\Users\\LENOVO\\projects\\fer\\test\\surprise\\Pub...  surprise\n",
      "7175  C:\\Users\\LENOVO\\projects\\fer\\test\\surprise\\Pub...  surprise\n",
      "7176  C:\\Users\\LENOVO\\projects\\fer\\test\\surprise\\Pub...  surprise\n",
      "7177  C:\\Users\\LENOVO\\projects\\fer\\test\\surprise\\Pub...  surprise\n",
      "\n",
      "[7178 rows x 2 columns]\n",
      "0       C:\\Users\\LENOVO\\projects\\fer\\test\\angry\\Privat...\n",
      "1       C:\\Users\\LENOVO\\projects\\fer\\test\\angry\\Privat...\n",
      "2       C:\\Users\\LENOVO\\projects\\fer\\test\\angry\\Privat...\n",
      "3       C:\\Users\\LENOVO\\projects\\fer\\test\\angry\\Privat...\n",
      "4       C:\\Users\\LENOVO\\projects\\fer\\test\\angry\\Privat...\n",
      "                              ...                        \n",
      "7173    C:\\Users\\LENOVO\\projects\\fer\\test\\surprise\\Pub...\n",
      "7174    C:\\Users\\LENOVO\\projects\\fer\\test\\surprise\\Pub...\n",
      "7175    C:\\Users\\LENOVO\\projects\\fer\\test\\surprise\\Pub...\n",
      "7176    C:\\Users\\LENOVO\\projects\\fer\\test\\surprise\\Pub...\n",
      "7177    C:\\Users\\LENOVO\\projects\\fer\\test\\surprise\\Pub...\n",
      "Name: image, Length: 7178, dtype: object\n"
     ]
    }
   ],
   "source": [
    "print(test)\n",
    "print(test['image'])"
   ]
  },
  {
   "cell_type": "code",
   "execution_count": 8,
   "id": "5dc28cb4",
   "metadata": {},
   "outputs": [],
   "source": [
    "from tqdm.notebook import tqdm"
   ]
  },
  {
   "cell_type": "code",
   "execution_count": 9,
   "id": "b7cf763f",
   "metadata": {},
   "outputs": [],
   "source": [
    "def extract_features(images):\n",
    "    features = []\n",
    "    for image in tqdm(images):\n",
    "        img = load_img(image,grayscale = \"grayscale\")\n",
    "        img = np.array(img)\n",
    "        features.append(img)\n",
    "    features = np.array(features)\n",
    "    features = features.reshape(len(features),48,48,1)\n",
    "    return features\n",
    "    "
   ]
  },
  {
   "cell_type": "code",
   "execution_count": 10,
   "id": "44ea248a",
   "metadata": {},
   "outputs": [
    {
     "data": {
      "application/vnd.jupyter.widget-view+json": {
       "model_id": "62c6ae96dc95440b92a56246517e9e9b",
       "version_major": 2,
       "version_minor": 0
      },
      "text/plain": [
       "  0%|          | 0/28709 [00:00<?, ?it/s]"
      ]
     },
     "metadata": {},
     "output_type": "display_data"
    },
    {
     "name": "stderr",
     "output_type": "stream",
     "text": [
      "C:\\Users\\LENOVO\\anaconda3\\envs\\IDL\\lib\\site-packages\\keras\\src\\utils\\image_utils.py:409: UserWarning: grayscale is deprecated. Please use color_mode = \"grayscale\"\n",
      "  warnings.warn(\n"
     ]
    }
   ],
   "source": [
    "train_features = extract_features(train['image']) \n"
   ]
  },
  {
   "cell_type": "code",
   "execution_count": 11,
   "id": "998ed494",
   "metadata": {},
   "outputs": [
    {
     "data": {
      "application/vnd.jupyter.widget-view+json": {
       "model_id": "9aaa6438d18f45cbba40f88fdbed2988",
       "version_major": 2,
       "version_minor": 0
      },
      "text/plain": [
       "  0%|          | 0/7178 [00:00<?, ?it/s]"
      ]
     },
     "metadata": {},
     "output_type": "display_data"
    }
   ],
   "source": [
    "test_features = extract_features(test['image'])"
   ]
  },
  {
   "cell_type": "code",
   "execution_count": 12,
   "id": "5a0cd8f4",
   "metadata": {},
   "outputs": [],
   "source": [
    "x_train = train_features/255.0\n",
    "x_test = test_features/255.0"
   ]
  },
  {
   "cell_type": "code",
   "execution_count": 13,
   "id": "51a78836",
   "metadata": {},
   "outputs": [],
   "source": [
    "from sklearn.preprocessing import LabelEncoder\n"
   ]
  },
  {
   "cell_type": "code",
   "execution_count": 14,
   "id": "2c8acd16",
   "metadata": {},
   "outputs": [
    {
     "data": {
      "text/html": [
       "<style>#sk-container-id-1 {color: black;background-color: white;}#sk-container-id-1 pre{padding: 0;}#sk-container-id-1 div.sk-toggleable {background-color: white;}#sk-container-id-1 label.sk-toggleable__label {cursor: pointer;display: block;width: 100%;margin-bottom: 0;padding: 0.3em;box-sizing: border-box;text-align: center;}#sk-container-id-1 label.sk-toggleable__label-arrow:before {content: \"▸\";float: left;margin-right: 0.25em;color: #696969;}#sk-container-id-1 label.sk-toggleable__label-arrow:hover:before {color: black;}#sk-container-id-1 div.sk-estimator:hover label.sk-toggleable__label-arrow:before {color: black;}#sk-container-id-1 div.sk-toggleable__content {max-height: 0;max-width: 0;overflow: hidden;text-align: left;background-color: #f0f8ff;}#sk-container-id-1 div.sk-toggleable__content pre {margin: 0.2em;color: black;border-radius: 0.25em;background-color: #f0f8ff;}#sk-container-id-1 input.sk-toggleable__control:checked~div.sk-toggleable__content {max-height: 200px;max-width: 100%;overflow: auto;}#sk-container-id-1 input.sk-toggleable__control:checked~label.sk-toggleable__label-arrow:before {content: \"▾\";}#sk-container-id-1 div.sk-estimator input.sk-toggleable__control:checked~label.sk-toggleable__label {background-color: #d4ebff;}#sk-container-id-1 div.sk-label input.sk-toggleable__control:checked~label.sk-toggleable__label {background-color: #d4ebff;}#sk-container-id-1 input.sk-hidden--visually {border: 0;clip: rect(1px 1px 1px 1px);clip: rect(1px, 1px, 1px, 1px);height: 1px;margin: -1px;overflow: hidden;padding: 0;position: absolute;width: 1px;}#sk-container-id-1 div.sk-estimator {font-family: monospace;background-color: #f0f8ff;border: 1px dotted black;border-radius: 0.25em;box-sizing: border-box;margin-bottom: 0.5em;}#sk-container-id-1 div.sk-estimator:hover {background-color: #d4ebff;}#sk-container-id-1 div.sk-parallel-item::after {content: \"\";width: 100%;border-bottom: 1px solid gray;flex-grow: 1;}#sk-container-id-1 div.sk-label:hover label.sk-toggleable__label {background-color: #d4ebff;}#sk-container-id-1 div.sk-serial::before {content: \"\";position: absolute;border-left: 1px solid gray;box-sizing: border-box;top: 0;bottom: 0;left: 50%;z-index: 0;}#sk-container-id-1 div.sk-serial {display: flex;flex-direction: column;align-items: center;background-color: white;padding-right: 0.2em;padding-left: 0.2em;position: relative;}#sk-container-id-1 div.sk-item {position: relative;z-index: 1;}#sk-container-id-1 div.sk-parallel {display: flex;align-items: stretch;justify-content: center;background-color: white;position: relative;}#sk-container-id-1 div.sk-item::before, #sk-container-id-1 div.sk-parallel-item::before {content: \"\";position: absolute;border-left: 1px solid gray;box-sizing: border-box;top: 0;bottom: 0;left: 50%;z-index: -1;}#sk-container-id-1 div.sk-parallel-item {display: flex;flex-direction: column;z-index: 1;position: relative;background-color: white;}#sk-container-id-1 div.sk-parallel-item:first-child::after {align-self: flex-end;width: 50%;}#sk-container-id-1 div.sk-parallel-item:last-child::after {align-self: flex-start;width: 50%;}#sk-container-id-1 div.sk-parallel-item:only-child::after {width: 0;}#sk-container-id-1 div.sk-dashed-wrapped {border: 1px dashed gray;margin: 0 0.4em 0.5em 0.4em;box-sizing: border-box;padding-bottom: 0.4em;background-color: white;}#sk-container-id-1 div.sk-label label {font-family: monospace;font-weight: bold;display: inline-block;line-height: 1.2em;}#sk-container-id-1 div.sk-label-container {text-align: center;}#sk-container-id-1 div.sk-container {/* jupyter's `normalize.less` sets `[hidden] { display: none; }` but bootstrap.min.css set `[hidden] { display: none !important; }` so we also need the `!important` here to be able to override the default hidden behavior on the sphinx rendered scikit-learn.org. See: https://github.com/scikit-learn/scikit-learn/issues/21755 */display: inline-block !important;position: relative;}#sk-container-id-1 div.sk-text-repr-fallback {display: none;}</style><div id=\"sk-container-id-1\" class=\"sk-top-container\"><div class=\"sk-text-repr-fallback\"><pre>LabelEncoder()</pre><b>In a Jupyter environment, please rerun this cell to show the HTML representation or trust the notebook. <br />On GitHub, the HTML representation is unable to render, please try loading this page with nbviewer.org.</b></div><div class=\"sk-container\" hidden><div class=\"sk-item\"><div class=\"sk-estimator sk-toggleable\"><input class=\"sk-toggleable__control sk-hidden--visually\" id=\"sk-estimator-id-1\" type=\"checkbox\" checked><label for=\"sk-estimator-id-1\" class=\"sk-toggleable__label sk-toggleable__label-arrow\">LabelEncoder</label><div class=\"sk-toggleable__content\"><pre>LabelEncoder()</pre></div></div></div></div></div>"
      ],
      "text/plain": [
       "LabelEncoder()"
      ]
     },
     "execution_count": 14,
     "metadata": {},
     "output_type": "execute_result"
    }
   ],
   "source": [
    "le = LabelEncoder()\n",
    "le.fit(train['label'])"
   ]
  },
  {
   "cell_type": "code",
   "execution_count": 15,
   "id": "f0bb2380",
   "metadata": {},
   "outputs": [],
   "source": [
    "y_train = le.transform(train['label'])\n",
    "y_test = le.transform(test['label'])"
   ]
  },
  {
   "cell_type": "code",
   "execution_count": 16,
   "id": "891b5dd0",
   "metadata": {},
   "outputs": [],
   "source": [
    "y_train = to_categorical(y_train,num_classes = 7)\n",
    "y_test = to_categorical(y_test,num_classes = 7)"
   ]
  },
  {
   "cell_type": "code",
   "execution_count": 17,
   "id": "800c77f2",
   "metadata": {},
   "outputs": [],
   "source": [
    "model = Sequential()\n",
    "# convolutional layers\n",
    "model.add(Conv2D(128, kernel_size=(3,3), activation='relu', input_shape=(48,48,1)))\n",
    "model.add(MaxPooling2D(pool_size=(2,2)))\n",
    "model.add(Dropout(0.4))\n",
    "\n",
    "model.add(Conv2D(256, kernel_size=(3,3), activation='relu'))\n",
    "model.add(MaxPooling2D(pool_size=(2,2)))\n",
    "model.add(Dropout(0.4))\n",
    "\n",
    "model.add(Conv2D(512, kernel_size=(3,3), activation='relu'))\n",
    "model.add(MaxPooling2D(pool_size=(2,2)))\n",
    "model.add(Dropout(0.4))\n",
    "\n",
    "model.add(Conv2D(512, kernel_size=(3,3), activation='relu'))\n",
    "model.add(MaxPooling2D(pool_size=(2,2)))\n",
    "model.add(Dropout(0.4))\n",
    "\n",
    "model.add(Flatten())\n",
    "# fully connected layers\n",
    "model.add(Dense(512, activation='relu'))\n",
    "model.add(Dropout(0.4))\n",
    "model.add(Dense(256, activation='relu'))\n",
    "model.add(Dropout(0.3))\n",
    "# output layer\n",
    "model.add(Dense(7, activation='softmax'))"
   ]
  },
  {
   "cell_type": "code",
   "execution_count": 18,
   "id": "eaf3b925",
   "metadata": {},
   "outputs": [],
   "source": [
    "model.compile(optimizer = 'adam', loss = 'categorical_crossentropy', metrics = 'accuracy' )"
   ]
  },
  {
   "cell_type": "code",
   "execution_count": 19,
   "id": "414e2971",
   "metadata": {},
   "outputs": [
    {
     "name": "stdout",
     "output_type": "stream",
     "text": [
      "Epoch 1/100\n",
      "225/225 [==============================] - 1633s 7s/step - loss: 1.8259 - accuracy: 0.2474 - val_loss: 1.8115 - val_accuracy: 0.2471\n",
      "Epoch 2/100\n",
      "225/225 [==============================] - 804s 4s/step - loss: 1.7993 - accuracy: 0.2540 - val_loss: 1.7673 - val_accuracy: 0.2556\n",
      "Epoch 3/100\n",
      "225/225 [==============================] - 605s 3s/step - loss: 1.7097 - accuracy: 0.3015 - val_loss: 1.6073 - val_accuracy: 0.3835\n",
      "Epoch 4/100\n",
      "225/225 [==============================] - 691s 3s/step - loss: 1.5765 - accuracy: 0.3773 - val_loss: 1.4478 - val_accuracy: 0.4313\n",
      "Epoch 5/100\n",
      "225/225 [==============================] - 1169s 5s/step - loss: 1.4836 - accuracy: 0.4230 - val_loss: 1.3439 - val_accuracy: 0.4822\n",
      "Epoch 6/100\n",
      "225/225 [==============================] - 1168s 5s/step - loss: 1.4179 - accuracy: 0.4534 - val_loss: 1.3021 - val_accuracy: 0.4969\n",
      "Epoch 7/100\n",
      "225/225 [==============================] - 1175s 5s/step - loss: 1.3740 - accuracy: 0.4745 - val_loss: 1.2695 - val_accuracy: 0.5107\n",
      "Epoch 8/100\n",
      "225/225 [==============================] - 768s 3s/step - loss: 1.3539 - accuracy: 0.4827 - val_loss: 1.2466 - val_accuracy: 0.5222\n",
      "Epoch 9/100\n",
      "225/225 [==============================] - 798s 4s/step - loss: 1.3181 - accuracy: 0.4960 - val_loss: 1.2047 - val_accuracy: 0.5340\n",
      "Epoch 10/100\n",
      "225/225 [==============================] - 1033s 5s/step - loss: 1.2986 - accuracy: 0.5048 - val_loss: 1.2047 - val_accuracy: 0.5379\n",
      "Epoch 11/100\n",
      "225/225 [==============================] - 426s 2s/step - loss: 1.2765 - accuracy: 0.5137 - val_loss: 1.1950 - val_accuracy: 0.5380\n",
      "Epoch 12/100\n",
      "225/225 [==============================] - 640s 3s/step - loss: 1.2649 - accuracy: 0.5160 - val_loss: 1.1849 - val_accuracy: 0.5364\n",
      "Epoch 13/100\n",
      "225/225 [==============================] - 712s 3s/step - loss: 1.2418 - accuracy: 0.5279 - val_loss: 1.1699 - val_accuracy: 0.5483\n",
      "Epoch 14/100\n",
      "225/225 [==============================] - 668s 3s/step - loss: 1.2300 - accuracy: 0.5297 - val_loss: 1.1413 - val_accuracy: 0.5635\n",
      "Epoch 15/100\n",
      "225/225 [==============================] - 786s 3s/step - loss: 1.2174 - accuracy: 0.5369 - val_loss: 1.1627 - val_accuracy: 0.5554\n",
      "Epoch 16/100\n",
      "225/225 [==============================] - 762s 3s/step - loss: 1.2094 - accuracy: 0.5433 - val_loss: 1.1232 - val_accuracy: 0.5656\n",
      "Epoch 17/100\n",
      "225/225 [==============================] - 606s 3s/step - loss: 1.1929 - accuracy: 0.5508 - val_loss: 1.1207 - val_accuracy: 0.5724\n",
      "Epoch 18/100\n",
      "225/225 [==============================] - 711s 3s/step - loss: 1.1853 - accuracy: 0.5504 - val_loss: 1.1120 - val_accuracy: 0.5737\n",
      "Epoch 19/100\n",
      "225/225 [==============================] - 702s 3s/step - loss: 1.1761 - accuracy: 0.5536 - val_loss: 1.1100 - val_accuracy: 0.5688\n",
      "Epoch 20/100\n",
      "225/225 [==============================] - 653s 3s/step - loss: 1.1574 - accuracy: 0.5613 - val_loss: 1.0940 - val_accuracy: 0.5783\n",
      "Epoch 21/100\n",
      "225/225 [==============================] - 650s 3s/step - loss: 1.1571 - accuracy: 0.5631 - val_loss: 1.0984 - val_accuracy: 0.5752\n",
      "Epoch 22/100\n",
      "225/225 [==============================] - 823s 4s/step - loss: 1.1381 - accuracy: 0.5703 - val_loss: 1.0948 - val_accuracy: 0.5789\n",
      "Epoch 23/100\n",
      "225/225 [==============================] - 1115s 5s/step - loss: 1.1376 - accuracy: 0.5708 - val_loss: 1.0862 - val_accuracy: 0.5867\n",
      "Epoch 24/100\n",
      "225/225 [==============================] - 1864s 8s/step - loss: 1.1280 - accuracy: 0.5743 - val_loss: 1.0953 - val_accuracy: 0.5775\n",
      "Epoch 25/100\n",
      "225/225 [==============================] - 1170s 5s/step - loss: 1.1192 - accuracy: 0.5795 - val_loss: 1.0746 - val_accuracy: 0.5894\n",
      "Epoch 26/100\n",
      "225/225 [==============================] - 842s 4s/step - loss: 1.1082 - accuracy: 0.5817 - val_loss: 1.0692 - val_accuracy: 0.5918\n",
      "Epoch 27/100\n",
      "225/225 [==============================] - 781s 3s/step - loss: 1.1036 - accuracy: 0.5846 - val_loss: 1.0680 - val_accuracy: 0.5926\n",
      "Epoch 28/100\n",
      "225/225 [==============================] - 1151s 5s/step - loss: 1.0979 - accuracy: 0.5836 - val_loss: 1.0657 - val_accuracy: 0.5950\n",
      "Epoch 29/100\n",
      "225/225 [==============================] - 1050s 5s/step - loss: 1.0877 - accuracy: 0.5887 - val_loss: 1.0725 - val_accuracy: 0.5925\n",
      "Epoch 30/100\n",
      "225/225 [==============================] - 1171s 5s/step - loss: 1.0843 - accuracy: 0.5889 - val_loss: 1.0750 - val_accuracy: 0.5933\n",
      "Epoch 31/100\n",
      "225/225 [==============================] - 946s 4s/step - loss: 1.0713 - accuracy: 0.5976 - val_loss: 1.0597 - val_accuracy: 0.5996\n",
      "Epoch 32/100\n",
      "225/225 [==============================] - 860s 4s/step - loss: 1.0662 - accuracy: 0.5985 - val_loss: 1.0560 - val_accuracy: 0.6004\n",
      "Epoch 33/100\n",
      "225/225 [==============================] - 629s 3s/step - loss: 1.0497 - accuracy: 0.6050 - val_loss: 1.0617 - val_accuracy: 0.5952\n",
      "Epoch 34/100\n",
      "225/225 [==============================] - 1728s 8s/step - loss: 1.0539 - accuracy: 0.6018 - val_loss: 1.0581 - val_accuracy: 0.5981\n",
      "Epoch 35/100\n",
      "225/225 [==============================] - 1736s 8s/step - loss: 1.0485 - accuracy: 0.6023 - val_loss: 1.0749 - val_accuracy: 0.5892\n",
      "Epoch 36/100\n",
      "225/225 [==============================] - 876s 4s/step - loss: 1.0411 - accuracy: 0.6101 - val_loss: 1.0459 - val_accuracy: 0.6053\n",
      "Epoch 37/100\n",
      "225/225 [==============================] - 351s 2s/step - loss: 1.0311 - accuracy: 0.6087 - val_loss: 1.0563 - val_accuracy: 0.6030\n",
      "Epoch 38/100\n",
      "225/225 [==============================] - 350s 2s/step - loss: 1.0326 - accuracy: 0.6141 - val_loss: 1.0431 - val_accuracy: 0.6056\n",
      "Epoch 39/100\n",
      "225/225 [==============================] - 350s 2s/step - loss: 1.0127 - accuracy: 0.6188 - val_loss: 1.0545 - val_accuracy: 0.6034\n",
      "Epoch 40/100\n",
      "225/225 [==============================] - 350s 2s/step - loss: 1.0227 - accuracy: 0.6144 - val_loss: 1.0522 - val_accuracy: 0.6057\n",
      "Epoch 41/100\n",
      "225/225 [==============================] - 351s 2s/step - loss: 1.0046 - accuracy: 0.6206 - val_loss: 1.0441 - val_accuracy: 0.6089\n",
      "Epoch 42/100\n",
      "225/225 [==============================] - 351s 2s/step - loss: 1.0015 - accuracy: 0.6212 - val_loss: 1.0369 - val_accuracy: 0.6101\n",
      "Epoch 43/100\n",
      "225/225 [==============================] - 351s 2s/step - loss: 1.0002 - accuracy: 0.6223 - val_loss: 1.0539 - val_accuracy: 0.6035\n",
      "Epoch 44/100\n",
      "225/225 [==============================] - 352s 2s/step - loss: 0.9816 - accuracy: 0.6315 - val_loss: 1.0468 - val_accuracy: 0.6077\n",
      "Epoch 45/100\n",
      "225/225 [==============================] - 352s 2s/step - loss: 0.9791 - accuracy: 0.6340 - val_loss: 1.0259 - val_accuracy: 0.6148\n",
      "Epoch 46/100\n",
      "225/225 [==============================] - 353s 2s/step - loss: 0.9763 - accuracy: 0.6318 - val_loss: 1.0280 - val_accuracy: 0.6151\n",
      "Epoch 47/100\n",
      "225/225 [==============================] - 353s 2s/step - loss: 0.9810 - accuracy: 0.6319 - val_loss: 1.0383 - val_accuracy: 0.6080\n",
      "Epoch 48/100\n",
      "225/225 [==============================] - 352s 2s/step - loss: 0.9714 - accuracy: 0.6369 - val_loss: 1.0424 - val_accuracy: 0.6141\n",
      "Epoch 49/100\n",
      "225/225 [==============================] - 351s 2s/step - loss: 0.9603 - accuracy: 0.6402 - val_loss: 1.0343 - val_accuracy: 0.6163\n",
      "Epoch 50/100\n",
      "225/225 [==============================] - 351s 2s/step - loss: 0.9534 - accuracy: 0.6423 - val_loss: 1.0354 - val_accuracy: 0.6116\n",
      "Epoch 51/100\n",
      "225/225 [==============================] - 351s 2s/step - loss: 0.9534 - accuracy: 0.6437 - val_loss: 1.0400 - val_accuracy: 0.6080\n",
      "Epoch 52/100\n",
      "225/225 [==============================] - 351s 2s/step - loss: 0.9503 - accuracy: 0.6480 - val_loss: 1.0341 - val_accuracy: 0.6102\n",
      "Epoch 53/100\n",
      "225/225 [==============================] - 352s 2s/step - loss: 0.9476 - accuracy: 0.6483 - val_loss: 1.0248 - val_accuracy: 0.6140\n",
      "Epoch 54/100\n",
      "225/225 [==============================] - 351s 2s/step - loss: 0.9322 - accuracy: 0.6508 - val_loss: 1.0257 - val_accuracy: 0.6180\n",
      "Epoch 55/100\n",
      "225/225 [==============================] - 351s 2s/step - loss: 0.9336 - accuracy: 0.6502 - val_loss: 1.0259 - val_accuracy: 0.6179\n",
      "Epoch 56/100\n",
      "225/225 [==============================] - 353s 2s/step - loss: 0.9299 - accuracy: 0.6527 - val_loss: 1.0278 - val_accuracy: 0.6140\n",
      "Epoch 57/100\n"
     ]
    },
    {
     "name": "stdout",
     "output_type": "stream",
     "text": [
      "225/225 [==============================] - 351s 2s/step - loss: 0.9259 - accuracy: 0.6570 - val_loss: 1.0277 - val_accuracy: 0.6154\n",
      "Epoch 58/100\n",
      "225/225 [==============================] - 351s 2s/step - loss: 0.9235 - accuracy: 0.6556 - val_loss: 1.0222 - val_accuracy: 0.6190\n",
      "Epoch 59/100\n",
      "225/225 [==============================] - 355s 2s/step - loss: 0.9145 - accuracy: 0.6597 - val_loss: 1.0352 - val_accuracy: 0.6172\n",
      "Epoch 60/100\n",
      "225/225 [==============================] - 351s 2s/step - loss: 0.9101 - accuracy: 0.6621 - val_loss: 1.0204 - val_accuracy: 0.6215\n",
      "Epoch 61/100\n",
      "225/225 [==============================] - 352s 2s/step - loss: 0.9042 - accuracy: 0.6652 - val_loss: 1.0266 - val_accuracy: 0.6247\n",
      "Epoch 62/100\n",
      "225/225 [==============================] - 350s 2s/step - loss: 0.8955 - accuracy: 0.6678 - val_loss: 1.0286 - val_accuracy: 0.6239\n",
      "Epoch 63/100\n",
      "225/225 [==============================] - 351s 2s/step - loss: 0.8947 - accuracy: 0.6673 - val_loss: 1.0183 - val_accuracy: 0.6179\n",
      "Epoch 64/100\n",
      "225/225 [==============================] - 350s 2s/step - loss: 0.8892 - accuracy: 0.6676 - val_loss: 1.0311 - val_accuracy: 0.6186\n",
      "Epoch 65/100\n",
      "225/225 [==============================] - 351s 2s/step - loss: 0.8862 - accuracy: 0.6738 - val_loss: 1.0208 - val_accuracy: 0.6199\n",
      "Epoch 66/100\n",
      "225/225 [==============================] - 351s 2s/step - loss: 0.8826 - accuracy: 0.6724 - val_loss: 1.0268 - val_accuracy: 0.6212\n",
      "Epoch 67/100\n",
      "225/225 [==============================] - 353s 2s/step - loss: 0.8727 - accuracy: 0.6767 - val_loss: 1.0310 - val_accuracy: 0.6202\n",
      "Epoch 68/100\n",
      "225/225 [==============================] - 352s 2s/step - loss: 0.8777 - accuracy: 0.6760 - val_loss: 1.0403 - val_accuracy: 0.6186\n",
      "Epoch 69/100\n",
      "225/225 [==============================] - 350s 2s/step - loss: 0.8628 - accuracy: 0.6777 - val_loss: 1.0430 - val_accuracy: 0.6191\n",
      "Epoch 70/100\n",
      "225/225 [==============================] - 351s 2s/step - loss: 0.8727 - accuracy: 0.6761 - val_loss: 1.0285 - val_accuracy: 0.6233\n",
      "Epoch 71/100\n",
      "225/225 [==============================] - 350s 2s/step - loss: 0.8578 - accuracy: 0.6850 - val_loss: 1.0302 - val_accuracy: 0.6170\n",
      "Epoch 72/100\n",
      "225/225 [==============================] - 350s 2s/step - loss: 0.8592 - accuracy: 0.6833 - val_loss: 1.0219 - val_accuracy: 0.6223\n",
      "Epoch 73/100\n",
      "225/225 [==============================] - 351s 2s/step - loss: 0.8490 - accuracy: 0.6887 - val_loss: 1.0238 - val_accuracy: 0.6223\n",
      "Epoch 74/100\n",
      "225/225 [==============================] - 351s 2s/step - loss: 0.8448 - accuracy: 0.6861 - val_loss: 1.0421 - val_accuracy: 0.6176\n",
      "Epoch 75/100\n",
      "225/225 [==============================] - 350s 2s/step - loss: 0.8443 - accuracy: 0.6868 - val_loss: 1.0251 - val_accuracy: 0.6239\n",
      "Epoch 76/100\n",
      "225/225 [==============================] - 351s 2s/step - loss: 0.8362 - accuracy: 0.6942 - val_loss: 1.0244 - val_accuracy: 0.6225\n",
      "Epoch 77/100\n",
      "225/225 [==============================] - 352s 2s/step - loss: 0.8220 - accuracy: 0.6946 - val_loss: 1.0216 - val_accuracy: 0.6248\n",
      "Epoch 78/100\n",
      "225/225 [==============================] - 352s 2s/step - loss: 0.8307 - accuracy: 0.6937 - val_loss: 1.0325 - val_accuracy: 0.6234\n",
      "Epoch 79/100\n",
      "225/225 [==============================] - 352s 2s/step - loss: 0.8223 - accuracy: 0.6964 - val_loss: 1.0254 - val_accuracy: 0.6280\n",
      "Epoch 80/100\n",
      "225/225 [==============================] - 352s 2s/step - loss: 0.8147 - accuracy: 0.6998 - val_loss: 1.0242 - val_accuracy: 0.6254\n",
      "Epoch 81/100\n",
      "225/225 [==============================] - 353s 2s/step - loss: 0.8160 - accuracy: 0.6992 - val_loss: 1.0267 - val_accuracy: 0.6264\n",
      "Epoch 82/100\n",
      "225/225 [==============================] - 352s 2s/step - loss: 0.8129 - accuracy: 0.6999 - val_loss: 1.0212 - val_accuracy: 0.6255\n",
      "Epoch 83/100\n",
      "225/225 [==============================] - 352s 2s/step - loss: 0.8068 - accuracy: 0.7040 - val_loss: 1.0289 - val_accuracy: 0.6236\n",
      "Epoch 84/100\n",
      "225/225 [==============================] - 353s 2s/step - loss: 0.7963 - accuracy: 0.7080 - val_loss: 1.0313 - val_accuracy: 0.6300\n",
      "Epoch 85/100\n",
      "225/225 [==============================] - 353s 2s/step - loss: 0.7978 - accuracy: 0.7090 - val_loss: 1.0391 - val_accuracy: 0.6291\n",
      "Epoch 86/100\n",
      "225/225 [==============================] - 351s 2s/step - loss: 0.8019 - accuracy: 0.7046 - val_loss: 1.0240 - val_accuracy: 0.6293\n",
      "Epoch 87/100\n",
      "225/225 [==============================] - 353s 2s/step - loss: 0.7885 - accuracy: 0.7098 - val_loss: 1.0267 - val_accuracy: 0.6259\n",
      "Epoch 88/100\n",
      "225/225 [==============================] - 353s 2s/step - loss: 0.7954 - accuracy: 0.7073 - val_loss: 1.0213 - val_accuracy: 0.6362\n",
      "Epoch 89/100\n",
      "225/225 [==============================] - 353s 2s/step - loss: 0.7777 - accuracy: 0.7150 - val_loss: 1.0227 - val_accuracy: 0.6321\n",
      "Epoch 90/100\n",
      "225/225 [==============================] - 352s 2s/step - loss: 0.7809 - accuracy: 0.7147 - val_loss: 1.0168 - val_accuracy: 0.6301\n",
      "Epoch 91/100\n",
      "225/225 [==============================] - 352s 2s/step - loss: 0.7686 - accuracy: 0.7191 - val_loss: 1.0210 - val_accuracy: 0.6329\n",
      "Epoch 92/100\n",
      "225/225 [==============================] - 353s 2s/step - loss: 0.7690 - accuracy: 0.7201 - val_loss: 1.0182 - val_accuracy: 0.6293\n",
      "Epoch 93/100\n",
      "225/225 [==============================] - 353s 2s/step - loss: 0.7674 - accuracy: 0.7202 - val_loss: 1.0351 - val_accuracy: 0.6268\n",
      "Epoch 94/100\n",
      "225/225 [==============================] - 353s 2s/step - loss: 0.7636 - accuracy: 0.7228 - val_loss: 1.0172 - val_accuracy: 0.6318\n",
      "Epoch 95/100\n",
      "225/225 [==============================] - 355s 2s/step - loss: 0.7623 - accuracy: 0.7227 - val_loss: 1.0177 - val_accuracy: 0.6330\n",
      "Epoch 96/100\n",
      "225/225 [==============================] - 352s 2s/step - loss: 0.7631 - accuracy: 0.7226 - val_loss: 1.0200 - val_accuracy: 0.6317\n",
      "Epoch 97/100\n",
      "225/225 [==============================] - 353s 2s/step - loss: 0.7553 - accuracy: 0.7218 - val_loss: 1.0190 - val_accuracy: 0.6296\n",
      "Epoch 98/100\n",
      "225/225 [==============================] - 352s 2s/step - loss: 0.7526 - accuracy: 0.7282 - val_loss: 1.0137 - val_accuracy: 0.6362\n",
      "Epoch 99/100\n",
      "225/225 [==============================] - 354s 2s/step - loss: 0.7504 - accuracy: 0.7276 - val_loss: 1.0247 - val_accuracy: 0.6381\n",
      "Epoch 100/100\n",
      "225/225 [==============================] - 353s 2s/step - loss: 0.7516 - accuracy: 0.7294 - val_loss: 1.0360 - val_accuracy: 0.6311\n"
     ]
    },
    {
     "data": {
      "text/plain": [
       "<keras.src.callbacks.History at 0x1cd40018bb0>"
      ]
     },
     "execution_count": 19,
     "metadata": {},
     "output_type": "execute_result"
    }
   ],
   "source": [
    "model.fit(x= x_train,y = y_train, batch_size = 128, epochs = 100, validation_data = (x_test,y_test)) "
   ]
  },
  {
   "cell_type": "code",
   "execution_count": 23,
   "id": "2f0dea2d",
   "metadata": {},
   "outputs": [],
   "source": [
    "model.save('FER_model.h5')"
   ]
  },
  {
   "cell_type": "code",
   "execution_count": 24,
   "id": "660d996b",
   "metadata": {},
   "outputs": [],
   "source": [
    "from keras.models import load_model"
   ]
  },
  {
   "cell_type": "code",
   "execution_count": 25,
   "id": "d2134f59",
   "metadata": {},
   "outputs": [],
   "source": [
    "loaded_model = load_model('FER_model.h5')"
   ]
  },
  {
   "cell_type": "code",
   "execution_count": 26,
   "id": "c0e78f62",
   "metadata": {},
   "outputs": [
    {
     "name": "stdout",
     "output_type": "stream",
     "text": [
      "225/225 [==============================] - 39s 173ms/step - loss: 1.0360 - accuracy: 0.6311\n"
     ]
    }
   ],
   "source": [
    "eval_results = loaded_model.evaluate(x_test, y_test)"
   ]
  },
  {
   "cell_type": "code",
   "execution_count": 27,
   "id": "8e4aa6d7",
   "metadata": {},
   "outputs": [
    {
     "name": "stdout",
     "output_type": "stream",
     "text": [
      "Test Loss: 1.0360\n",
      "Test Accuracy: 63.11%\n"
     ]
    }
   ],
   "source": [
    "print(f\"Test Loss: {eval_results[0]:.4f}\")\n",
    "print(f\"Test Accuracy: {eval_results[1]*100:.2f}%\")"
   ]
  },
  {
   "cell_type": "code",
   "execution_count": 28,
   "id": "659554b6",
   "metadata": {},
   "outputs": [
    {
     "name": "stdout",
     "output_type": "stream",
     "text": [
      "225/225 [==============================] - 41s 181ms/step\n"
     ]
    }
   ],
   "source": [
    "predictions = loaded_model.predict(x_test)"
   ]
  },
  {
   "cell_type": "code",
   "execution_count": 30,
   "id": "c3e17a1c",
   "metadata": {},
   "outputs": [],
   "source": [
    "predicted_labels = np.argmax(predictions, axis=1)\n",
    "true_labels = np.argmax(y_test, axis=1)"
   ]
  },
  {
   "cell_type": "code",
   "execution_count": 32,
   "id": "dd6bf045",
   "metadata": {},
   "outputs": [],
   "source": [
    "from sklearn.metrics import accuracy_score, confusion_matrix"
   ]
  },
  {
   "cell_type": "code",
   "execution_count": 33,
   "id": "cd3bf972",
   "metadata": {},
   "outputs": [
    {
     "name": "stdout",
     "output_type": "stream",
     "text": [
      "Accuracy: 63.11%\n"
     ]
    }
   ],
   "source": [
    "accuracy = accuracy_score(true_labels, predicted_labels)\n",
    "print(f'Accuracy: {accuracy * 100:.2f}%')"
   ]
  },
  {
   "cell_type": "code",
   "execution_count": 34,
   "id": "8d013e4b",
   "metadata": {},
   "outputs": [],
   "source": [
    "conf_mat = confusion_matrix(true_labels, predicted_labels)"
   ]
  },
  {
   "cell_type": "code",
   "execution_count": 38,
   "id": "aab3a925",
   "metadata": {},
   "outputs": [],
   "source": [
    "import matplotlib.pyplot as plt\n",
    "import seaborn as sns"
   ]
  },
  {
   "cell_type": "code",
   "execution_count": 42,
   "id": "e3658842",
   "metadata": {},
   "outputs": [],
   "source": [
    "class_labels = ['angry','disgust','fear','happy','neutral','sad','surprise']\n"
   ]
  },
  {
   "cell_type": "code",
   "execution_count": 43,
   "id": "6713a89c",
   "metadata": {},
   "outputs": [
    {
     "data": {
      "image/png": "[encoded data removed]",
      "text/plain": [
       "<Figure size 800x600 with 2 Axes>"
      ]
     },
     "metadata": {},
     "output_type": "display_data"
    }
   ],
   "source": [
    "plt.figure(figsize=(8, 6))\n",
    "sns.heatmap(conf_mat, annot=True, fmt='d', cmap='Blues',\n",
    "            xticklabels=class_labels, yticklabels=class_labels)\n",
    "plt.xlabel('Predicted')\n",
    "plt.ylabel('True')\n",
    "plt.title('Confusion Matrix')\n",
    "plt.show()"
   ]
  },
  {
   "cell_type": "code",
   "execution_count": 44,
   "id": "c1ed1cd9",
   "metadata": {},
   "outputs": [
    {
     "name": "stdout",
     "output_type": "stream",
     "text": [
      "C:\\Users\\LENOVO\n"
     ]
    }
   ],
   "source": [
    "print(os.getcwd())"
   ]
  },
  {
   "cell_type": "code",
   "execution_count": null,
   "id": "48129778",
   "metadata": {},
   "outputs": [],
   "source": []
  }
 ],
 "metadata": {
  "kernelspec": {
   "display_name": "Python 3 (ipykernel)",
   "language": "python",
   "name": "python3"
  },
  "language_info": {
   "codemirror_mode": {
    "name": "ipython",
    "version": 3
   },
   "file_extension": ".py",
   "mimetype": "text/x-python",
   "name": "python",
   "nbconvert_exporter": "python",
   "pygments_lexer": "ipython3",
   "version": "3.8.16"
  }
 },
 "nbformat": 4,
 "nbformat_minor": 5
}
